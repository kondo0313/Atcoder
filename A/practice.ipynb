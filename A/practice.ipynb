{
 "cells": [
  {
   "cell_type": "markdown",
   "metadata": {},
   "source": [
    "353"
   ]
  },
  {
   "cell_type": "code",
   "execution_count": 14,
   "metadata": {},
   "outputs": [
    {
     "name": "stdout",
     "output_type": "stream",
     "text": [
      "6\n"
     ]
    }
   ],
   "source": [
    "#A - Buildings\n",
    "#提出用コード\n",
    "n = int(input())\n",
    "h = list(map(int, input().split()))\n",
    "\n",
    "ans = -1\n",
    "\n",
    "for i in range(1,n):\n",
    "    if h[i] > h[0]:\n",
    "        ans = i\n",
    "        break\n",
    "if ans != -1:\n",
    "    ans = ans + 1\n",
    "print(ans)"
   ]
  },
  {
   "cell_type": "code",
   "execution_count": null,
   "metadata": {},
   "outputs": [],
   "source": [
    "#A - Buildings\n",
    "#回答コード\n",
    "n = int(input())\n",
    "h = list(map(int, input().split()))\n",
    "for i in range(1, n):\n",
    "  if h[i] > h[0]:\n",
    "    print(i + 1)\n",
    "    exit()\n",
    "print(-1)"
   ]
  },
  {
   "cell_type": "code",
   "execution_count": 17,
   "metadata": {},
   "outputs": [
    {
     "name": "stdout",
     "output_type": "stream",
     "text": [
      "Yes\n"
     ]
    }
   ],
   "source": [
    "#A - AtCoder Line\n",
    "#提出用コード\n",
    "h = list(map(int, input().split()))\n",
    "\n",
    "if h[3] > h[1] and h[3] < h[2]:\n",
    "    print(\"Yes\")\n",
    "elif h[3] < h[1] and h[3] > h[2]:\n",
    "    print(\"Yes\")\n",
    "else:\n",
    "    print(\"No\")"
   ]
  },
  {
   "cell_type": "code",
   "execution_count": null,
   "metadata": {},
   "outputs": [],
   "source": [
    "#A - AtCoder Line\n",
    "#回答コード_例\n",
    "\n",
    "h = list(map(int, input().split()))\n",
    "\n",
    "if (h[3] > h[1] and h[3] < h[2]) or (h[3] < h[1] and h[3] > h[2]):\n",
    "    print(\"Yes\")\n",
    "else:\n",
    "    print(\"No\")\n"
   ]
  },
  {
   "cell_type": "code",
   "execution_count": null,
   "metadata": {},
   "outputs": [],
   "source": [
    "#A - The bottom of the ninth\n",
    "#提出用コード\n",
    "a = list(map(int, input().split()))\n",
    "b = list(map(int, input().split()))\n",
    "\n",
    "print(sum(a) - sum(b) + 1)"
   ]
  },
  {
   "cell_type": "code",
   "execution_count": null,
   "metadata": {},
   "outputs": [],
   "source": [
    "#A - The bottom of the ninth\n",
    "#回答コード\n",
    "A = list(map(int, input().split()))\n",
    "B = list(map(int, input().split()))\n",
    "print(sum(A)-sum(B)+1)"
   ]
  },
  {
   "cell_type": "code",
   "execution_count": 22,
   "metadata": {},
   "outputs": [
    {
     "name": "stdout",
     "output_type": "stream",
     "text": [
      "No\n"
     ]
    }
   ],
   "source": [
    "#A - Past ABCs\n",
    "#提出用コード\n",
    "s = input()\n",
    "if int(s[3:]) > 0 and int(s[3:]) < 350 and int(s[3:]) != 316:\n",
    "    print(\"Yes\")\n",
    "else:\n",
    "    print(\"No\")"
   ]
  },
  {
   "cell_type": "code",
   "execution_count": null,
   "metadata": {},
   "outputs": [],
   "source": [
    "#A - Past ABCs\n",
    "#回答コード\n",
    "S = input()\n",
    "T = S[3:]\n",
    "T = int(T)\n",
    "if 1 <= T <= 349 and T != 316:\n",
    "  print(\"Yes\")\n",
    "else:\n",
    "  print(\"No\")"
   ]
  },
  {
   "cell_type": "code",
   "execution_count": 29,
   "metadata": {},
   "outputs": [
    {
     "name": "stdout",
     "output_type": "stream",
     "text": [
      "-150\n"
     ]
    }
   ],
   "source": [
    "#A - Zero Sum Game\n",
    "#提出用コード\n",
    "n = int(input())\n",
    "a = list(map(int, input().split()))\n",
    "\n",
    "end = 0\n",
    "for i in a:\n",
    "    end = end - i\n",
    "\n",
    "print(end)"
   ]
  },
  {
   "cell_type": "code",
   "execution_count": null,
   "metadata": {},
   "outputs": [],
   "source": [
    "#A - Zero Sum Game\n",
    "#回答コード\n",
    "N = int(input())\n",
    "A = list(map(int, input().split()))\n",
    "print(-sum(A))"
   ]
  },
  {
   "cell_type": "code",
   "execution_count": 42,
   "metadata": {},
   "outputs": [
    {
     "name": "stdout",
     "output_type": "stream",
     "text": [
      "ooxooxoox\n"
     ]
    }
   ],
   "source": [
    "#A - Penalty Kick\n",
    "#提出用コード\n",
    "n = int(input())\n",
    "result = [\"o\"]*n\n",
    "for i in range(1,n+1):\n",
    "    if i % 3 == 0:\n",
    "        result[i-1] = \"x\"\n",
    "print(''.join(result))"
   ]
  },
  {
   "cell_type": "code",
   "execution_count": null,
   "metadata": {},
   "outputs": [],
   "source": [
    "#A - Penalty Kick\n",
    "#回答コード\n",
    "N = int(input())\n",
    "S = \"\"\n",
    "\n",
    "for i in range(1,N+1):\n",
    "    if i%3 == 0:\n",
    "        S += \"x\"\n",
    "    else:\n",
    "        S += \"o\"\n",
    "\n",
    "print(S)"
   ]
  },
  {
   "cell_type": "code",
   "execution_count": 46,
   "metadata": {},
   "outputs": [
    {
     "name": "stdout",
     "output_type": "stream",
     "text": [
      "1 3 5 \n"
     ]
    }
   ],
   "source": [
    "#A - Divisible\n",
    "#提出用コード\n",
    "N = list(map(int, input().split()))\n",
    "A = list(map(int, input().split()))\n",
    "result = \"\"\n",
    "for i in range(N[0]):\n",
    "    if A[i] % N[1] == 0:\n",
    "        result += str(int(A[i]/N[1]))\n",
    "        if i != N[0]:\n",
    "            result += \" \"\n",
    "\n",
    "print(result)"
   ]
  },
  {
   "cell_type": "code",
   "execution_count": 47,
   "metadata": {},
   "outputs": [
    {
     "name": "stdout",
     "output_type": "stream",
     "text": [
      "1 5 4\n"
     ]
    }
   ],
   "source": [
    "#A - Divisible\n",
    "#回答コード_例\n",
    "def main():\n",
    "    # nとkの入力を受け取る\n",
    "    n, k = map(int, input().split())\n",
    "    \n",
    "    # リストaを入力から取得\n",
    "    a = list(map(int, input().split()))\n",
    "    \n",
    "    # 条件に合う要素を持つ新しいリストbを作成\n",
    "    b = [x // k for x in a if x % k == 0]\n",
    "    \n",
    "    # リストbの要素を出力\n",
    "    print(*b)\n",
    "\n",
    "if __name__ == \"__main__\":\n",
    "    main()\n"
   ]
  },
  {
   "cell_type": "code",
   "execution_count": 48,
   "metadata": {},
   "outputs": [
    {
     "name": "stdout",
     "output_type": "stream",
     "text": [
      "12 24\n"
     ]
    }
   ],
   "source": [
    "#A - Adjacent Product\n",
    "#提出用コード\n",
    "N = int(input())\n",
    "A = list(map(int, input().split()))\n",
    "\n",
    "result = [A[x]*A[x+1] for x in range(N-1)]\n",
    "\n",
    "print(*result)"
   ]
  },
  {
   "cell_type": "code",
   "execution_count": null,
   "metadata": {},
   "outputs": [],
   "source": [
    "#A - Adjacent Product\n",
    "#回答コード\n",
    "n = int(input())\n",
    "a = list(map(int, input().split()))\n",
    "b = []\n",
    "for i in range(n - 1):\n",
    "    b.append(a[i] * a[i + 1])\n",
    "print(*b)"
   ]
  },
  {
   "cell_type": "code",
   "execution_count": 60,
   "metadata": {},
   "outputs": [
    {
     "name": "stdout",
     "output_type": "stream",
     "text": [
      "No\n"
     ]
    }
   ],
   "source": [
    "#A - Leftrightarrow\n",
    "#提出用コード\n",
    "S = input()\n",
    "flag = 0\n",
    "\n",
    "if len(S) <= 2:\n",
    "    flag = -1\n",
    "else:\n",
    "    if S[-1] == \">\" and S[0] == \"<\":\n",
    "        for i in S[1:-1]:\n",
    "            if i != \"=\":\n",
    "                flag = -1\n",
    "                break\n",
    "    else:\n",
    "        flag = -1\n",
    "\n",
    "if flag == 0:\n",
    "    print(\"Yes\")\n",
    "else:\n",
    "    print(\"No\")"
   ]
  },
  {
   "cell_type": "code",
   "execution_count": null,
   "metadata": {},
   "outputs": [],
   "source": [
    "#A - Leftrightarrow\n",
    "#回答コード\n",
    "s=input()\n",
    "flag=True\n",
    "if s[0]!='<':\n",
    "    flag=False\n",
    "if s[-1]!='>':\n",
    "    flag=False\n",
    "for i in range(1,len(s)-1):\n",
    "    if s[i]!='=':\n",
    "        flag=False\n",
    "if flag:\n",
    "    print(\"Yes\")\n",
    "else:\n",
    "    print(\"No\")"
   ]
  },
  {
   "cell_type": "code",
   "execution_count": null,
   "metadata": {},
   "outputs": [],
   "source": [
    "#A - Leftrightarrow\n",
    "#提出用コード\n",
    "A = list(map(int, input().split()))\n",
    "print(abs(9-sum(A)))"
   ]
  },
  {
   "cell_type": "code",
   "execution_count": null,
   "metadata": {},
   "outputs": [],
   "source": [
    "#A - Leftrightarrow\n",
    "#回答コード_例\n",
    "def main():\n",
    "    # aとbの入力を受け取る\n",
    "    a, b = map(int, input().split())\n",
    "    \n",
    "    # aとbの和が0かどうかを判定し、その結果に応じて1または0を出力\n",
    "    print(1 if a + b == 0 else 0)\n",
    "\n",
    "if __name__ == \"__main__\":\n",
    "    main()"
   ]
  }
 ],
 "metadata": {
  "kernelspec": {
   "display_name": "Python 3",
   "language": "python",
   "name": "python3"
  },
  "language_info": {
   "codemirror_mode": {
    "name": "ipython",
    "version": 3
   },
   "file_extension": ".py",
   "mimetype": "text/x-python",
   "name": "python",
   "nbconvert_exporter": "python",
   "pygments_lexer": "ipython3",
   "version": "3.7.9"
  }
 },
 "nbformat": 4,
 "nbformat_minor": 2
}
