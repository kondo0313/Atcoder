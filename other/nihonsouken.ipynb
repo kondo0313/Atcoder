{
 "cells": [
  {
   "cell_type": "code",
   "execution_count": 6,
   "metadata": {},
   "outputs": [
    {
     "name": "stdout",
     "output_type": "stream",
     "text": [
      "[10, 15]\n",
      "[20, 30]\n",
      "[40, 50]\n",
      "[95, 85, 85, 75, 90, 80, 80, 70]\n",
      "[0 0 0 0 0 0 0 0 0 0 0 0 0 0 0 0 0 0 0 0 0 0 0 0 0 0 0 0 0 0 0 0 0 0 0 0 0\n",
      " 0 0 0 0 0 0 0 0 0 0 0 0 0 0 0 0 0 0 0 0 0 0 0 0 0 0 0 0 0 0 0 0 0 1 0 0 0\n",
      " 0 1 0 0 0 0 2 0 0 0 0 2 0 0 0 0 1 0 0 0 0 1]\n"
     ]
    }
   ],
   "source": [
    "import sys\n",
    "import numpy as np\n",
    "def main():\n",
    "    P, Q, R = map(int, input().split())\n",
    "    A = list(map(int, input().split()))\n",
    "    B = list(map(int, input().split()))\n",
    "    C = list(map(int, input().split()))\n",
    "\n",
    "    output = []\n",
    "    for i in range(P):\n",
    "        for j in range(Q):\n",
    "            for l in range(R):\n",
    "                output.append(A[i-1]+B[j-1]+C[l-1])\n",
    "    count = np.bincount(output)\n",
    "\n",
    "    print(max(count))\n",
    "\n",
    "if __name__ == '__main__':\n",
    "    main()\n"
   ]
  },
  {
   "cell_type": "code",
   "execution_count": 81,
   "metadata": {},
   "outputs": [
    {
     "name": "stdout",
     "output_type": "stream",
     "text": [
      "0\n",
      "1\n",
      "2\n",
      "[[], [10000], [1, 1]]\n",
      "[[10000], [1, 1]]\n",
      "Yes\n",
      "10000\n",
      "1\n",
      "1\n"
     ]
    }
   ],
   "source": [
    "import sys\n",
    "\n",
    "def main():\n",
    "    N = int(input())\n",
    "    A = list(map(int, input().split()))\n",
    "\n",
    "\n",
    "    sum_all = sum(A)\n",
    "    stack = []\n",
    "    save = []\n",
    "    for i in range(N):\n",
    "        print(i)\n",
    "        save.append(A[i])\n",
    "        if sum(save) > sum_all/2:\n",
    "            stack.append(save[:-1])\n",
    "            save = [A[i]]\n",
    "        if i == N-1:\n",
    "            #print(\":)\", save)\n",
    "            stack.append(save)\n",
    "\n",
    "    print(stack)\n",
    "    filtered_data = [x for x in stack if x != []]\n",
    "    print(filtered_data)\n",
    "    if len(filtered_data) == 3:\n",
    "        print(\"Yes\")\n",
    "        for j in filtered_data:\n",
    "            print(*j)\n",
    "    elif len(filtered_data) == 2:\n",
    "        print(\"Yes\")\n",
    "        save_stack_2 = filtered_data[1]\n",
    "        if len(filtered_data[0]) > 2:\n",
    "            filtered_data = [A[0],filtered_data[0][1:],save_stack_2]\n",
    "            print(filtered_data[0])\n",
    "            for j in filtered_data[1:]:\n",
    "                print(*j)\n",
    "        else:\n",
    "            filtered_data = [A[0],filtered_data[1][:-1],save_stack_2[-1]]\n",
    "            print(filtered_data[0])\n",
    "            for j in filtered_data[1]:\n",
    "                print(j)\n",
    "            print(filtered_data[2])\n",
    "\n",
    "    else:\n",
    "        print(\"No\")\n",
    "        for j in filtered_data:\n",
    "            print(*j)\n",
    "\n",
    "\n",
    "if __name__ == '__main__':\n",
    "    main()\n"
   ]
  },
  {
   "cell_type": "code",
   "execution_count": 1,
   "metadata": {},
   "outputs": [
    {
     "name": "stdout",
     "output_type": "stream",
     "text": [
      "YES\n",
      "1\n",
      "1\n",
      "10000\n"
     ]
    }
   ],
   "source": [
    "import sys\n",
    "\n",
    "def main():\n",
    "    N = int(input())\n",
    "    A = list(map(int, input().split()))\n",
    "\n",
    "    sum_all = sum(A)\n",
    "    save = []\n",
    "    parts = []\n",
    "    current_sum = 0\n",
    "\n",
    "    for i in range(N):\n",
    "        save.append(A[i])\n",
    "        current_sum += A[i]\n",
    "        if current_sum > sum_all / 2:\n",
    "            parts.append(save[:-1])\n",
    "            save = [A[i]]\n",
    "            current_sum = A[i]\n",
    "        if i == N - 1:\n",
    "            parts.append(save)\n",
    "\n",
    "    parts = [part for part in parts if part]\n",
    "\n",
    "    if len(parts) == 3:\n",
    "        print(\"YES\")\n",
    "        for part in parts:\n",
    "            print(*part)\n",
    "    elif len(parts) == 2:\n",
    "        print(\"YES\")\n",
    "        if len(parts[0]) > 1:\n",
    "            print(parts[0][0])\n",
    "            print(*parts[0][1:])\n",
    "            print(*parts[1])\n",
    "        else:\n",
    "            print(parts[0][0])\n",
    "            print(*parts[1][:-1])\n",
    "            print(parts[1][-1])\n",
    "    else:\n",
    "        print(\"NO\")\n",
    "\n",
    "if __name__ == '__main__':\n",
    "    main()\n"
   ]
  },
  {
   "cell_type": "code",
   "execution_count": null,
   "metadata": {},
   "outputs": [],
   "source": []
  }
 ],
 "metadata": {
  "kernelspec": {
   "display_name": "Python 3",
   "language": "python",
   "name": "python3"
  },
  "language_info": {
   "codemirror_mode": {
    "name": "ipython",
    "version": 3
   },
   "file_extension": ".py",
   "mimetype": "text/x-python",
   "name": "python",
   "nbconvert_exporter": "python",
   "pygments_lexer": "ipython3",
   "version": "3.7.9"
  }
 },
 "nbformat": 4,
 "nbformat_minor": 2
}
