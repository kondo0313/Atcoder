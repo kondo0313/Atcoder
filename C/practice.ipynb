{
 "cells": [
  {
   "cell_type": "code",
   "execution_count": 31,
   "metadata": {},
   "outputs": [
    {
     "name": "stdout",
     "output_type": "stream",
     "text": [
      "4\n",
      "2 3 5 6\n"
     ]
    }
   ],
   "source": [
    "#C - AtCoder Magics\n",
    "#提出用コード\n",
    "n = int(input())\n",
    "cards = []\n",
    "\n",
    "for i in range(n):\n",
    "    temp = input().split()\n",
    "    a = int(temp[0])\n",
    "    c = int(temp[1])\n",
    "    cards.append((a, c, i + 1))\n",
    "\n",
    "cards.sort()\n",
    "\n",
    "min_cost = float('inf')\n",
    "result = []\n",
    "\n",
    "for a, c, index in reversed(cards):\n",
    "    if c < min_cost:\n",
    "        result.append(index)\n",
    "        min_cost = c\n",
    "\n",
    "result.sort()\n",
    "print(len(result))\n",
    "print(*result)\n",
    "\n"
   ]
  },
  {
   "cell_type": "code",
   "execution_count": null,
   "metadata": {},
   "outputs": [],
   "source": [
    "#C - AtCoder Magics\n",
    "#回答コード\n",
    "n = int(input())\n",
    "cards = []\n",
    "\n",
    "for i in range(n):\n",
    "    a, c = map(int, input().split())\n",
    "    cards.append((a, c, i))\n",
    "\n",
    "# Cでソート\n",
    "cards.sort(key=lambda card: card[1])\n",
    "\n",
    "# 答えを求める計算\n",
    "ans = []\n",
    "v = 0\n",
    "for card in cards:\n",
    "    if card[0] > v:\n",
    "        v = card[0]\n",
    "        ans.append(card[2])\n",
    "\n",
    "# 昇順にソート\n",
    "ans.sort()\n",
    "\n",
    "# 出力\n",
    "print(len(ans))\n",
    "print(' '.join(str(i + 1) for i in ans))\n"
   ]
  },
  {
   "cell_type": "code",
   "execution_count": null,
   "metadata": {},
   "outputs": [
    {
     "name": "stdout",
     "output_type": "stream",
     "text": [
      "8\n"
     ]
    }
   ],
   "source": [
    "def main():\n",
    "    import sys\n",
    "    input = sys.stdin.read\n",
    "    data = input().split()\n",
    "    \n",
    "    N = int(data[0])\n",
    "    A = list(map(int, data[1:]))\n",
    "    \n",
    "    MOD = 10**8\n",
    "    \n",
    "    total_sum = sum(A)\n",
    "    \n",
    "    result = 0\n",
    "    \n",
    "    for i in range(N):\n",
    "        total_sum -= A[i]\n",
    "        result += (A[i] * total_sum) % MOD\n",
    "        result %= MOD\n",
    "    \n",
    "    print(result)\n",
    "\n",
    "if __name__ == \"__main__\":\n",
    "    main()\n"
   ]
  },
  {
   "cell_type": "code",
   "execution_count": 5,
   "metadata": {},
   "outputs": [
    {
     "name": "stdout",
     "output_type": "stream",
     "text": [
      "[1]\n",
      "[1, 1]\n",
      "[2]\n",
      "[2, 1]\n",
      "[2, 1, 2]\n",
      "[2, 1, 2, 4]\n",
      "4\n"
     ]
    }
   ],
   "source": [
    "#C - Merge the balls\n",
    "#提出用コード\n",
    "N = int(input())\n",
    "A = list(map(int, input().split()))\n",
    "\n",
    "\n",
    "new_a = []\n",
    "new_A = []\n",
    "for i in range(N):\n",
    "    new_A.append(2**A[i])\n",
    "flag = 0\n",
    "for i in range(N):\n",
    "    flag = 0\n",
    "    new_a = new_a + [new_A[i]]\n",
    "    while flag == 0:   \n",
    "        if int(len(new_a)) < 2: \n",
    "            flag = -1\n",
    "        elif 2**new_a[-1] == 2**new_a[-2]:\n",
    "            new_a = new_a[:-2] + [new_a[-1] + new_a[-2]]\n",
    "        elif new_a[-1] != new_a[-2]:\n",
    "            flag = -1\n",
    "\n",
    "        \n",
    "print(len(new_a))\n",
    "\n",
    "\n"
   ]
  },
  {
   "cell_type": "code",
   "execution_count": null,
   "metadata": {},
   "outputs": [
    {
     "name": "stdout",
     "output_type": "stream",
     "text": [
      "1 2 3 4 5 6 7 \n"
     ]
    }
   ],
   "source": [
    "#B - Typing\n",
    "#提出用コード\n",
    "S = input()\n",
    "T = input()\n",
    "\n",
    "result = []\n",
    "count = 0\n",
    "for i in range(len(T)):\n",
    "    if T[i] == S[count]:\n",
    "        count += 1\n",
    "        result.append(str(i + 1))  # 直接文字列をリストに追加\n",
    "\n",
    "print(\" \".join(result))  # 最後にリストの内容を空白で連結"
   ]
  },
  {
   "cell_type": "code",
   "execution_count": null,
   "metadata": {},
   "outputs": [],
   "source": [
    "#B - Typing\n",
    "#回答コード_例\n",
    "def main():\n",
    "    # 入力\n",
    "    s = input()\n",
    "    t = input()\n",
    "    n = len(s)\n",
    "    m = len(t)\n",
    "    \n",
    "    # 結果を保存するリストを初期化\n",
    "    a = [0] * n\n",
    "    j = 0\n",
    "    \n",
    "    # 文字列 t を探索して、文字列 s の各文字の最初の出現位置を記録\n",
    "    for i in range(m):\n",
    "        if j < n and s[j] == t[i]:\n",
    "            a[j] = i + 1  # 1ベースのインデックスに変換\n",
    "            j += 1\n",
    "            if j == n:  # s の全ての文字が見つかったらループを終了\n",
    "                break\n",
    "    \n",
    "    # 結果の出力\n",
    "    for i in range(n):\n",
    "        if i == n - 1:\n",
    "            print(a[i])\n",
    "        else:\n",
    "            print(a[i], end=\" \")\n",
    "\n",
    "if __name__ == \"__main__\":\n",
    "    main()\n"
   ]
  },
  {
   "cell_type": "code",
   "execution_count": null,
   "metadata": {},
   "outputs": [],
   "source": [
    "#B - AtCoder Amusement Park\n",
    "#提出用コード"
   ]
  },
  {
   "cell_type": "code",
   "execution_count": null,
   "metadata": {},
   "outputs": [],
   "source": [
    "#B - Typing\n",
    "#回答コード_例"
   ]
  }
 ],
 "metadata": {
  "kernelspec": {
   "display_name": "Python 3",
   "language": "python",
   "name": "python3"
  },
  "language_info": {
   "codemirror_mode": {
    "name": "ipython",
    "version": 3
   },
   "file_extension": ".py",
   "mimetype": "text/x-python",
   "name": "python",
   "nbconvert_exporter": "python",
   "pygments_lexer": "ipython3",
   "version": "3.7.9"
  }
 },
 "nbformat": 4,
 "nbformat_minor": 2
}
