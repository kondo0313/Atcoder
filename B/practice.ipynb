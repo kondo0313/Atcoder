{
 "cells": [
  {
   "cell_type": "code",
   "execution_count": 9,
   "metadata": {},
   "outputs": [
    {
     "name": "stdout",
     "output_type": "stream",
     "text": [
      "aoki\n",
      "snuke\n"
     ]
    }
   ],
   "source": [
    "#B - AtCoder Janken 2\n",
    "#提出用コード\n",
    "\n",
    "n = int(input())\n",
    "s = []\n",
    "c = []\n",
    "for i in range(n):\n",
    "    temp = input().split()\n",
    "    s.append(temp[0])\n",
    "    c.append(int(temp[1]))\n",
    "\n",
    "a = s.sort()\n",
    "print(s[sum(c)%n])"
   ]
  },
  {
   "cell_type": "code",
   "execution_count": null,
   "metadata": {},
   "outputs": [],
   "source": [
    "#B - AtCoder Janken 2\n",
    "#回答コード_例\n",
    "def main():\n",
    "    # 入力\n",
    "    n = int(input())\n",
    "    s = []\n",
    "    c = []\n",
    "    for _ in range(n):\n",
    "        temp = input().split()\n",
    "        s.append(temp[0])\n",
    "        c.append(int(temp[1]))\n",
    "\n",
    "    # 文字列の辞書順ソート\n",
    "    s.sort()\n",
    "\n",
    "    # 勝者の番号を求める\n",
    "    sum_rating = sum(c)\n",
    "    winner = sum_rating % n\n",
    "\n",
    "    # 出力\n",
    "    print(s[winner])\n",
    "\n",
    "if __name__ == \"__main__\":\n",
    "    main()"
   ]
  },
  {
   "cell_type": "code",
   "execution_count": 29,
   "metadata": {},
   "outputs": [
    {
     "name": "stdout",
     "output_type": "stream",
     "text": [
      "8\n"
     ]
    }
   ],
   "source": [
    "#B - AtCoder Amusement Park\n",
    "#提出用コード\n",
    "N = list(map(int, input().split()))\n",
    "A = list(map(int, input().split()))\n",
    "\n",
    "sheet = N[1]\n",
    "count = 0\n",
    "for i in A:\n",
    "    if sheet < i:\n",
    "        count += 1\n",
    "        sheet = N[1]\n",
    "    \n",
    "    sheet -= i\n",
    "\n",
    "count = count + 1\n",
    "print(count)\n"
   ]
  },
  {
   "cell_type": "code",
   "execution_count": 26,
   "metadata": {},
   "outputs": [
    {
     "name": "stdout",
     "output_type": "stream",
     "text": [
      "8\n"
     ]
    }
   ],
   "source": [
    "#B - AtCoder Janken 2\n",
    "#回答コード\n",
    "N, K = map(int, input().split())\n",
    "\n",
    "A = list(map(int, input().split()))\n",
    "\n",
    "empty_sheets = K # はじめ、空席は K 個\n",
    "start_count = 0 # スタートした回数は 0 回\n",
    "\n",
    "for a in A:\n",
    "    if empty_sheets < a: # 空席が足りなければ\n",
    "        start_count += 1 # スタートして\n",
    "        empty_sheets = K # 空席を K 個にする\n",
    "    empty_sheets -= a # a 人座る\n",
    "    \n",
    "start_count += 1 # 最後に 1 回スタートする\n",
    "\n",
    "print(start_count)\n"
   ]
  },
  {
   "cell_type": "code",
   "execution_count": 39,
   "metadata": {},
   "outputs": [
    {
     "name": "stdout",
     "output_type": "stream",
     "text": [
      "1 2 3 4 5 6 7 \n"
     ]
    }
   ],
   "source": [
    "#B - Typing\n",
    "#提出用コード\n",
    "S = input()\n",
    "T = input()\n",
    "\n",
    "result = []\n",
    "count = 0\n",
    "for i in range(len(T)):\n",
    "    if T[i] == S[count]:\n",
    "        count += 1\n",
    "        result.append(str(i + 1))  # 直接文字列をリストに追加\n",
    "\n",
    "print(\" \".join(result))  # 最後にリストの内容を空白で連結"
   ]
  },
  {
   "cell_type": "code",
   "execution_count": null,
   "metadata": {},
   "outputs": [],
   "source": [
    "#B - Typing\n",
    "#回答コード_例\n",
    "def main():\n",
    "    # 入力\n",
    "    s = input()\n",
    "    t = input()\n",
    "    n = len(s)\n",
    "    m = len(t)\n",
    "    \n",
    "    # 結果を保存するリストを初期化\n",
    "    a = [0] * n\n",
    "    j = 0\n",
    "    \n",
    "    # 文字列 t を探索して、文字列 s の各文字の最初の出現位置を記録\n",
    "    for i in range(m):\n",
    "        if j < n and s[j] == t[i]:\n",
    "            a[j] = i + 1  # 1ベースのインデックスに変換\n",
    "            j += 1\n",
    "            if j == n:  # s の全ての文字が見つかったらループを終了\n",
    "                break\n",
    "    \n",
    "    # 結果の出力\n",
    "    for i in range(n):\n",
    "        if i == n - 1:\n",
    "            print(a[i])\n",
    "        else:\n",
    "            print(a[i], end=\" \")\n",
    "\n",
    "if __name__ == \"__main__\":\n",
    "    main()\n"
   ]
  },
  {
   "cell_type": "code",
   "execution_count": null,
   "metadata": {},
   "outputs": [],
   "source": [
    "#B - AtCoder Amusement Park\n",
    "#提出用コード"
   ]
  },
  {
   "cell_type": "code",
   "execution_count": null,
   "metadata": {},
   "outputs": [],
   "source": [
    "#B - Typing\n",
    "#回答コード_例"
   ]
  }
 ],
 "metadata": {
  "kernelspec": {
   "display_name": "Python 3",
   "language": "python",
   "name": "python3"
  },
  "language_info": {
   "codemirror_mode": {
    "name": "ipython",
    "version": 3
   },
   "file_extension": ".py",
   "mimetype": "text/x-python",
   "name": "python",
   "nbconvert_exporter": "python",
   "pygments_lexer": "ipython3",
   "version": "3.7.9"
  }
 },
 "nbformat": 4,
 "nbformat_minor": 2
}
